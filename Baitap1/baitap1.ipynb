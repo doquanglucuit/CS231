{
  "cells": [
    {
      "cell_type": "markdown",
      "metadata": {
        "id": "m-NWVuRQyo3A"
      },
      "source": [
        "# Import Libraries"
      ]
    },
    {
      "cell_type": "code",
      "execution_count": 3,
      "metadata": {
        "id": "_taCvb6kyo3B"
      },
      "outputs": [],
      "source": [
        "import os\n",
        "import cv2\n",
        "import numpy as np\n",
        "from sklearn.neighbors import KNeighborsClassifier\n",
        "from sklearn.metrics import accuracy_score, classification_report"
      ]
    },
    {
      "cell_type": "markdown",
      "metadata": {
        "id": "LHRg2Bqwyo3C"
      },
      "source": [
        "# Load data"
      ]
    },
    {
      "cell_type": "code",
      "execution_count": 4,
      "metadata": {
        "id": "wtUi2nnLyo3C"
      },
      "outputs": [],
      "source": [
        "#Đổi lại đường dẫn chứa thư mục tập train và tập test\n",
        "train_path = 'D:\\Document\\\\University\\CS231\\Baitap1\\HoaVietNam\\HoaVietNam\\\\train'\n",
        "test_path = 'D:\\Document\\\\University\\CS231\\Baitap1\\HoaVietNam\\HoaVietNam\\\\test'"
      ]
    },
    {
      "cell_type": "code",
      "execution_count": 33,
      "metadata": {
        "id": "7S8zb-OSyo3C"
      },
      "outputs": [],
      "source": [
        "def preprocessing_image(image, n_bins=256):\n",
        "    image = cv2.cvtColor(image, cv2.COLOR_BGR2RGB)\n",
        "\n",
        "    feature = []\n",
        "    hist = cv2.calcHist([image], [0, 1, 2], None, (32, 32, 32), [0, 256, 0, 256, 0, 256])\n",
        "    feature.extend(hist.flatten())\n",
        "    return np.array(feature)\n",
        "\n",
        "labels = os.listdir(train_path)\n",
        "label_to_number = {label: idx + 1 for idx, label in enumerate(labels)}\n",
        "\n",
        "X_train, X_test, Y_train, Y_test = [], [], [], []\n",
        "\n",
        "for label in labels:\n",
        "    train_images_list = os.listdir(os.path.join(train_path, label))\n",
        "    test_images_list = os.listdir(os.path.join(test_path, label))\n",
        "\n",
        "    for img_name in train_images_list:\n",
        "        img = cv2.imread(os.path.join(train_path, label, img_name))\n",
        "        img = preprocessing_image(img)\n",
        "        X_train.append(img)\n",
        "        Y_train.append(label_to_number[label])\n",
        "\n",
        "    for img_name in test_images_list:\n",
        "        img = cv2.imread(os.path.join(test_path, label, img_name))\n",
        "        img = preprocessing_image(img)\n",
        "        X_test.append(img)\n",
        "        Y_test.append(label_to_number[label])"
      ]
    },
    {
      "cell_type": "code",
      "execution_count": 34,
      "metadata": {
        "id": "7zaApV1cyo3C"
      },
      "outputs": [],
      "source": [
        "X_train = np.array(X_train)\n",
        "Y_train = np.array(Y_train).reshape(-1)\n",
        "\n",
        "X_test = np.array(X_test)\n",
        "Y_test = np.array(Y_test).reshape(-1)"
      ]
    },
    {
      "cell_type": "code",
      "execution_count": 7,
      "metadata": {
        "colab": {
          "base_uri": "https://localhost:8080/"
        },
        "id": "9hJzYkicz8TK",
        "outputId": "d05d2fc4-6932-4de9-8365-2fbcf2c8a1b6"
      },
      "outputs": [
        {
          "name": "stdout",
          "output_type": "stream",
          "text": [
            "(150, 768)\n",
            "(150,)\n"
          ]
        }
      ],
      "source": [
        "print(X_train.shape)\n",
        "print(Y_train.shape)"
      ]
    },
    {
      "cell_type": "code",
      "execution_count": 19,
      "metadata": {
        "id": "_6Sx5nlHyo3D"
      },
      "outputs": [],
      "source": [
        "def train_model(n_neighbors=7, weights='uniform', metric='braycurtis'):\n",
        "    model = KNeighborsClassifier(n_neighbors=n_neighbors, weights=weights, metric=metric)\n",
        "    model.fit(X_train, Y_train)\n",
        "\n",
        "    predictions = model.predict(X_test)\n",
        "    accuracy = accuracy_score(Y_test, predictions)\n",
        "    return accuracy\n",
        "    # print(f'Accuracy: {accuracy:.2f}')\n",
        "\n",
        "    # print(classification_report(Y_test, predictions))\n",
        "\n"
      ]
    },
    {
      "cell_type": "code",
      "execution_count": 35,
      "metadata": {
        "colab": {
          "base_uri": "https://localhost:8080/"
        },
        "id": "SRjlSQqeyo3D",
        "outputId": "55acfb13-ecb5-41e9-b8d3-66f85e32ac25"
      },
      "outputs": [
        {
          "name": "stdout",
          "output_type": "stream",
          "text": [
            "With weight: uniform, metric: braycurtis -> Accuracy: 0.94\n",
            "With weight: uniform, metric: canberra -> Accuracy: 0.76\n",
            "With weight: uniform, metric: correlation -> Accuracy: 0.76\n",
            "With weight: uniform, metric: cosine -> Accuracy: 0.78\n",
            "With weight: uniform, metric: euclidean -> Accuracy: 0.52\n",
            "With weight: uniform, metric: minkowski -> Accuracy: 0.52\n",
            "With weight: distance, metric: braycurtis -> Accuracy: 0.94\n",
            "With weight: distance, metric: canberra -> Accuracy: 0.82\n",
            "With weight: distance, metric: correlation -> Accuracy: 0.8\n",
            "With weight: distance, metric: cosine -> Accuracy: 0.8\n",
            "With weight: distance, metric: euclidean -> Accuracy: 0.54\n",
            "With weight: distance, metric: minkowski -> Accuracy: 0.54\n",
            "_____Conclusion_____\n",
            "Best weights: uniform\n",
            "Best metric: braycurtis\n",
            "Accuracy: 0.94\n"
          ]
        }
      ],
      "source": [
        "weights_list = ['uniform', 'distance']\n",
        "metric_list = ['braycurtis', 'canberra', 'correlation', 'cosine', 'euclidean', 'minkowski']\n",
        "\n",
        "ma = 0\n",
        "w, m = 0, 0\n",
        "\n",
        "for weights in weights_list:\n",
        "    for metric in metric_list:\n",
        "        accuracy = train_model(weights=weights, metric=metric)\n",
        "        print(f'With weight: {weights}, metric: {metric} -> Accuracy: {accuracy}')\n",
        "\n",
        "        if accuracy > ma:\n",
        "            ma = accuracy\n",
        "            w, m = weights, metric\n",
        "\n",
        "print(\"_____Conclusion_____\")\n",
        "print(f\"Best weights: {w}\")\n",
        "print(f\"Best metric: {m}\")\n",
        "print(f\"Accuracy: {ma}\")\n"
      ]
    }
  ],
  "metadata": {
    "accelerator": "GPU",
    "colab": {
      "gpuType": "T4",
      "provenance": []
    },
    "kernelspec": {
      "display_name": "Python 3",
      "name": "python3"
    },
    "language_info": {
      "codemirror_mode": {
        "name": "ipython",
        "version": 3
      },
      "file_extension": ".py",
      "mimetype": "text/x-python",
      "name": "python",
      "nbconvert_exporter": "python",
      "pygments_lexer": "ipython3",
      "version": "3.11.4"
    }
  },
  "nbformat": 4,
  "nbformat_minor": 0
}
